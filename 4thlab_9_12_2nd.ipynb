{
  "cells": [
    {
      "cell_type": "markdown",
      "metadata": {
        "id": "view-in-github",
        "colab_type": "text"
      },
      "source": [
        "<a href=\"https://colab.research.google.com/github/rajkumar1234-yeddu/DA-python-pandas-dataframe-basics/blob/main/4thlab_9_12_2nd.ipynb\" target=\"_parent\"><img src=\"https://colab.research.google.com/assets/colab-badge.svg\" alt=\"Open In Colab\"/></a>"
      ]
    },
    {
      "cell_type": "code",
      "execution_count": null,
      "id": "cf846892",
      "metadata": {
        "id": "cf846892"
      },
      "outputs": [],
      "source": [
        "from pandas import DataFrame as df"
      ]
    },
    {
      "cell_type": "markdown",
      "id": "73d626d5",
      "metadata": {
        "id": "73d626d5"
      },
      "source": [
        "# 1"
      ]
    },
    {
      "cell_type": "code",
      "execution_count": null,
      "id": "cef439b5",
      "metadata": {
        "id": "cef439b5",
        "outputId": "857a22e2-b839-4efe-9525-47f43118da9e"
      },
      "outputs": [
        {
          "data": {
            "text/html": [
              "<div>\n",
              "<style scoped>\n",
              "    .dataframe tbody tr th:only-of-type {\n",
              "        vertical-align: middle;\n",
              "    }\n",
              "\n",
              "    .dataframe tbody tr th {\n",
              "        vertical-align: top;\n",
              "    }\n",
              "\n",
              "    .dataframe thead th {\n",
              "        text-align: right;\n",
              "    }\n",
              "</style>\n",
              "<table border=\"1\" class=\"dataframe\">\n",
              "  <thead>\n",
              "    <tr style=\"text-align: right;\">\n",
              "      <th></th>\n",
              "      <th>0</th>\n",
              "      <th>1</th>\n",
              "      <th>2</th>\n",
              "      <th>3</th>\n",
              "    </tr>\n",
              "  </thead>\n",
              "  <tbody>\n",
              "    <tr>\n",
              "      <th>0</th>\n",
              "      <td>1</td>\n",
              "      <td>2</td>\n",
              "      <td>3</td>\n",
              "      <td>4</td>\n",
              "    </tr>\n",
              "    <tr>\n",
              "      <th>1</th>\n",
              "      <td>6</td>\n",
              "      <td>7</td>\n",
              "      <td>8</td>\n",
              "      <td>9</td>\n",
              "    </tr>\n",
              "  </tbody>\n",
              "</table>\n",
              "</div>"
            ],
            "text/plain": [
              "   0  1  2  3\n",
              "0  1  2  3  4\n",
              "1  6  7  8  9"
            ]
          },
          "execution_count": 4,
          "metadata": {},
          "output_type": "execute_result"
        }
      ],
      "source": [
        "l = [[1,2,3,4], [6,7,8,9]]\n",
        "data = df(l)\n",
        "data"
      ]
    },
    {
      "cell_type": "code",
      "execution_count": null,
      "id": "0a837157",
      "metadata": {
        "id": "0a837157",
        "outputId": "916d2ab6-6684-41e3-8e47-86c07f2de17c"
      },
      "outputs": [
        {
          "data": {
            "text/html": [
              "<div>\n",
              "<style scoped>\n",
              "    .dataframe tbody tr th:only-of-type {\n",
              "        vertical-align: middle;\n",
              "    }\n",
              "\n",
              "    .dataframe tbody tr th {\n",
              "        vertical-align: top;\n",
              "    }\n",
              "\n",
              "    .dataframe thead th {\n",
              "        text-align: right;\n",
              "    }\n",
              "</style>\n",
              "<table border=\"1\" class=\"dataframe\">\n",
              "  <thead>\n",
              "    <tr style=\"text-align: right;\">\n",
              "      <th></th>\n",
              "      <th>one</th>\n",
              "      <th>two</th>\n",
              "    </tr>\n",
              "  </thead>\n",
              "  <tbody>\n",
              "    <tr>\n",
              "      <th>0</th>\n",
              "      <td>1</td>\n",
              "      <td>6</td>\n",
              "    </tr>\n",
              "    <tr>\n",
              "      <th>1</th>\n",
              "      <td>2</td>\n",
              "      <td>7</td>\n",
              "    </tr>\n",
              "    <tr>\n",
              "      <th>2</th>\n",
              "      <td>3</td>\n",
              "      <td>8</td>\n",
              "    </tr>\n",
              "    <tr>\n",
              "      <th>3</th>\n",
              "      <td>4</td>\n",
              "      <td>9</td>\n",
              "    </tr>\n",
              "  </tbody>\n",
              "</table>\n",
              "</div>"
            ],
            "text/plain": [
              "   one  two\n",
              "0    1    6\n",
              "1    2    7\n",
              "2    3    8\n",
              "3    4    9"
            ]
          },
          "execution_count": 6,
          "metadata": {},
          "output_type": "execute_result"
        }
      ],
      "source": [
        "dic = {\n",
        "    'one':[1,2,3,4],\n",
        "    'two':[6,7,8,9]\n",
        "}\n",
        "data1 = df(dic)\n",
        "data1"
      ]
    },
    {
      "cell_type": "code",
      "execution_count": null,
      "id": "d6d01c42",
      "metadata": {
        "id": "d6d01c42",
        "outputId": "13731f05-ac27-4384-b7b9-14b2db70765b"
      },
      "outputs": [
        {
          "data": {
            "text/html": [
              "<div>\n",
              "<style scoped>\n",
              "    .dataframe tbody tr th:only-of-type {\n",
              "        vertical-align: middle;\n",
              "    }\n",
              "\n",
              "    .dataframe tbody tr th {\n",
              "        vertical-align: top;\n",
              "    }\n",
              "\n",
              "    .dataframe thead th {\n",
              "        text-align: right;\n",
              "    }\n",
              "</style>\n",
              "<table border=\"1\" class=\"dataframe\">\n",
              "  <thead>\n",
              "    <tr style=\"text-align: right;\">\n",
              "      <th></th>\n",
              "      <th>one</th>\n",
              "      <th>two</th>\n",
              "    </tr>\n",
              "  </thead>\n",
              "  <tbody>\n",
              "    <tr>\n",
              "      <th>a</th>\n",
              "      <td>1</td>\n",
              "      <td>6</td>\n",
              "    </tr>\n",
              "    <tr>\n",
              "      <th>b</th>\n",
              "      <td>2</td>\n",
              "      <td>7</td>\n",
              "    </tr>\n",
              "    <tr>\n",
              "      <th>c</th>\n",
              "      <td>3</td>\n",
              "      <td>8</td>\n",
              "    </tr>\n",
              "    <tr>\n",
              "      <th>d</th>\n",
              "      <td>4</td>\n",
              "      <td>9</td>\n",
              "    </tr>\n",
              "  </tbody>\n",
              "</table>\n",
              "</div>"
            ],
            "text/plain": [
              "   one  two\n",
              "a    1    6\n",
              "b    2    7\n",
              "c    3    8\n",
              "d    4    9"
            ]
          },
          "execution_count": 7,
          "metadata": {},
          "output_type": "execute_result"
        }
      ],
      "source": [
        "dic = {\n",
        "    'one':[1,2,3,4],\n",
        "    'two':[6,7,8,9]\n",
        "}\n",
        "data2 = df(dic, index=['a', 'b', 'c', 'd'])\n",
        "data2"
      ]
    },
    {
      "cell_type": "code",
      "execution_count": null,
      "id": "ddde197f",
      "metadata": {
        "id": "ddde197f",
        "outputId": "9545f98a-5fbe-4174-b5ea-24337abab56d"
      },
      "outputs": [
        {
          "data": {
            "text/html": [
              "<div>\n",
              "<style scoped>\n",
              "    .dataframe tbody tr th:only-of-type {\n",
              "        vertical-align: middle;\n",
              "    }\n",
              "\n",
              "    .dataframe tbody tr th {\n",
              "        vertical-align: top;\n",
              "    }\n",
              "\n",
              "    .dataframe thead th {\n",
              "        text-align: right;\n",
              "    }\n",
              "</style>\n",
              "<table border=\"1\" class=\"dataframe\">\n",
              "  <thead>\n",
              "    <tr style=\"text-align: right;\">\n",
              "      <th></th>\n",
              "      <th>1st</th>\n",
              "      <th>2nd</th>\n",
              "      <th>two</th>\n",
              "    </tr>\n",
              "  </thead>\n",
              "  <tbody>\n",
              "    <tr>\n",
              "      <th>0</th>\n",
              "      <td>[1, 3, 5]</td>\n",
              "      <td>[2, 4, 6]</td>\n",
              "      <td>NaN</td>\n",
              "    </tr>\n",
              "    <tr>\n",
              "      <th>1</th>\n",
              "      <td>[1, 2, 3]</td>\n",
              "      <td>NaN</td>\n",
              "      <td>[6, 7, 8]</td>\n",
              "    </tr>\n",
              "  </tbody>\n",
              "</table>\n",
              "</div>"
            ],
            "text/plain": [
              "         1st        2nd        two\n",
              "0  [1, 3, 5]  [2, 4, 6]        NaN\n",
              "1  [1, 2, 3]        NaN  [6, 7, 8]"
            ]
          },
          "execution_count": 9,
          "metadata": {},
          "output_type": "execute_result"
        }
      ],
      "source": [
        "dic1 = {\n",
        "    '1st':[1,3,5],\n",
        "    '2nd':[2,4,6]\n",
        "}\n",
        "dic2 = {\n",
        "    '1st':[1,2,3],\n",
        "    'two':[6,7,8]\n",
        "}\n",
        "l1 = [dic1, dic2]\n",
        "data = df(l1)\n",
        "data"
      ]
    },
    {
      "cell_type": "code",
      "execution_count": null,
      "id": "2c85314f",
      "metadata": {
        "id": "2c85314f",
        "outputId": "01fdda88-d255-4507-8671-fae838ebcda5"
      },
      "outputs": [
        {
          "data": {
            "text/html": [
              "<div>\n",
              "<style scoped>\n",
              "    .dataframe tbody tr th:only-of-type {\n",
              "        vertical-align: middle;\n",
              "    }\n",
              "\n",
              "    .dataframe tbody tr th {\n",
              "        vertical-align: top;\n",
              "    }\n",
              "\n",
              "    .dataframe thead th {\n",
              "        text-align: right;\n",
              "    }\n",
              "</style>\n",
              "<table border=\"1\" class=\"dataframe\">\n",
              "  <thead>\n",
              "    <tr style=\"text-align: right;\">\n",
              "      <th></th>\n",
              "      <th>1st</th>\n",
              "      <th>2nd</th>\n",
              "    </tr>\n",
              "  </thead>\n",
              "  <tbody>\n",
              "    <tr>\n",
              "      <th>dic1</th>\n",
              "      <td>[1, 3, 5]</td>\n",
              "      <td>[2, 4, 6]</td>\n",
              "    </tr>\n",
              "    <tr>\n",
              "      <th>dic2</th>\n",
              "      <td>[1, 2, 3]</td>\n",
              "      <td>[6, 7, 8]</td>\n",
              "    </tr>\n",
              "  </tbody>\n",
              "</table>\n",
              "</div>"
            ],
            "text/plain": [
              "            1st        2nd\n",
              "dic1  [1, 3, 5]  [2, 4, 6]\n",
              "dic2  [1, 2, 3]  [6, 7, 8]"
            ]
          },
          "execution_count": 10,
          "metadata": {},
          "output_type": "execute_result"
        }
      ],
      "source": [
        "dic1 = {\n",
        "    '1st':[1,3,5],\n",
        "    '2nd':[2,4,6]\n",
        "}\n",
        "dic2 = {\n",
        "    '1st':[1,2,3],\n",
        "    '2nd':[6,7,8]\n",
        "}\n",
        "l1 = [dic1, dic2]\n",
        "data = df(l1, index=['dic1', 'dic2'])\n",
        "data"
      ]
    },
    {
      "cell_type": "code",
      "execution_count": null,
      "id": "72501604",
      "metadata": {
        "id": "72501604",
        "outputId": "a7f884a6-de89-4c04-8db6-f8533f396d1b"
      },
      "outputs": [
        {
          "data": {
            "text/html": [
              "<div>\n",
              "<style scoped>\n",
              "    .dataframe tbody tr th:only-of-type {\n",
              "        vertical-align: middle;\n",
              "    }\n",
              "\n",
              "    .dataframe tbody tr th {\n",
              "        vertical-align: top;\n",
              "    }\n",
              "\n",
              "    .dataframe thead th {\n",
              "        text-align: right;\n",
              "    }\n",
              "</style>\n",
              "<table border=\"1\" class=\"dataframe\">\n",
              "  <thead>\n",
              "    <tr style=\"text-align: right;\">\n",
              "      <th></th>\n",
              "      <th>0</th>\n",
              "      <th>1</th>\n",
              "      <th>2</th>\n",
              "      <th>3</th>\n",
              "    </tr>\n",
              "  </thead>\n",
              "  <tbody>\n",
              "    <tr>\n",
              "      <th>0</th>\n",
              "      <td>1</td>\n",
              "      <td>2</td>\n",
              "      <td>3</td>\n",
              "      <td>4</td>\n",
              "    </tr>\n",
              "    <tr>\n",
              "      <th>1</th>\n",
              "      <td>7</td>\n",
              "      <td>8</td>\n",
              "      <td>9</td>\n",
              "      <td>0</td>\n",
              "    </tr>\n",
              "  </tbody>\n",
              "</table>\n",
              "</div>"
            ],
            "text/plain": [
              "   0  1  2  3\n",
              "0  1  2  3  4\n",
              "1  7  8  9  0"
            ]
          },
          "execution_count": 15,
          "metadata": {},
          "output_type": "execute_result"
        }
      ],
      "source": [
        "t1 = (1,2,3,4)\n",
        "t2 = (7,8,9,0)\n",
        "l1 = [t1, t2]\n",
        "df(l1)"
      ]
    },
    {
      "cell_type": "code",
      "execution_count": null,
      "id": "1a1bf1e2",
      "metadata": {
        "id": "1a1bf1e2",
        "outputId": "2ab0e56c-1664-4567-dc3e-0608f0dff76d"
      },
      "outputs": [
        {
          "data": {
            "text/html": [
              "<div>\n",
              "<style scoped>\n",
              "    .dataframe tbody tr th:only-of-type {\n",
              "        vertical-align: middle;\n",
              "    }\n",
              "\n",
              "    .dataframe tbody tr th {\n",
              "        vertical-align: top;\n",
              "    }\n",
              "\n",
              "    .dataframe thead th {\n",
              "        text-align: right;\n",
              "    }\n",
              "</style>\n",
              "<table border=\"1\" class=\"dataframe\">\n",
              "  <thead>\n",
              "    <tr style=\"text-align: right;\">\n",
              "      <th></th>\n",
              "      <th>0</th>\n",
              "      <th>1</th>\n",
              "    </tr>\n",
              "  </thead>\n",
              "  <tbody>\n",
              "    <tr>\n",
              "      <th>0</th>\n",
              "      <td>1</td>\n",
              "      <td>6</td>\n",
              "    </tr>\n",
              "    <tr>\n",
              "      <th>1</th>\n",
              "      <td>2</td>\n",
              "      <td>7</td>\n",
              "    </tr>\n",
              "    <tr>\n",
              "      <th>2</th>\n",
              "      <td>3</td>\n",
              "      <td>8</td>\n",
              "    </tr>\n",
              "    <tr>\n",
              "      <th>3</th>\n",
              "      <td>4</td>\n",
              "      <td>9</td>\n",
              "    </tr>\n",
              "  </tbody>\n",
              "</table>\n",
              "</div>"
            ],
            "text/plain": [
              "   0  1\n",
              "0  1  6\n",
              "1  2  7\n",
              "2  3  8\n",
              "3  4  9"
            ]
          },
          "execution_count": 19,
          "metadata": {},
          "output_type": "execute_result"
        }
      ],
      "source": [
        "l1 = (1,2,3,4)\n",
        "l2 = (6,7,8,9)\n",
        "a = list(zip(l1, l2))\n",
        "df(a)"
      ]
    },
    {
      "cell_type": "code",
      "execution_count": null,
      "id": "17e81bcf",
      "metadata": {
        "id": "17e81bcf",
        "outputId": "21d5ede3-313f-4fb9-ec8f-31fe7791727c"
      },
      "outputs": [
        {
          "data": {
            "text/html": [
              "<div>\n",
              "<style scoped>\n",
              "    .dataframe tbody tr th:only-of-type {\n",
              "        vertical-align: middle;\n",
              "    }\n",
              "\n",
              "    .dataframe tbody tr th {\n",
              "        vertical-align: top;\n",
              "    }\n",
              "\n",
              "    .dataframe thead th {\n",
              "        text-align: right;\n",
              "    }\n",
              "</style>\n",
              "<table border=\"1\" class=\"dataframe\">\n",
              "  <thead>\n",
              "    <tr style=\"text-align: right;\">\n",
              "      <th></th>\n",
              "    </tr>\n",
              "  </thead>\n",
              "  <tbody>\n",
              "  </tbody>\n",
              "</table>\n",
              "</div>"
            ],
            "text/plain": [
              "Empty DataFrame\n",
              "Columns: []\n",
              "Index: []"
            ]
          },
          "execution_count": 21,
          "metadata": {},
          "output_type": "execute_result"
        }
      ],
      "source": [
        "data = df()\n",
        "data"
      ]
    },
    {
      "cell_type": "code",
      "execution_count": null,
      "id": "698423e3",
      "metadata": {
        "id": "698423e3"
      },
      "outputs": [],
      "source": []
    },
    {
      "cell_type": "code",
      "execution_count": null,
      "id": "8a3c4cc6",
      "metadata": {
        "id": "8a3c4cc6",
        "outputId": "b5012b72-8370-46f2-d525-feaba6cd8dbf"
      },
      "outputs": [
        {
          "name": "stdout",
          "output_type": "stream",
          "text": [
            "   Rollno Branch Section\n",
            "0    1000    CSE       A\n",
            "1    2000    ECE       B\n",
            "2    3000    EEE       A\n",
            "3    4000    MEC       C\n"
          ]
        },
        {
          "data": {
            "text/html": [
              "<div>\n",
              "<style scoped>\n",
              "    .dataframe tbody tr th:only-of-type {\n",
              "        vertical-align: middle;\n",
              "    }\n",
              "\n",
              "    .dataframe tbody tr th {\n",
              "        vertical-align: top;\n",
              "    }\n",
              "\n",
              "    .dataframe thead th {\n",
              "        text-align: right;\n",
              "    }\n",
              "</style>\n",
              "<table border=\"1\" class=\"dataframe\">\n",
              "  <thead>\n",
              "    <tr style=\"text-align: right;\">\n",
              "      <th></th>\n",
              "      <th>Rollno</th>\n",
              "      <th>Branch</th>\n",
              "      <th>Section</th>\n",
              "    </tr>\n",
              "  </thead>\n",
              "  <tbody>\n",
              "    <tr>\n",
              "      <th>0</th>\n",
              "      <td>1000</td>\n",
              "      <td>CSE</td>\n",
              "      <td>A</td>\n",
              "    </tr>\n",
              "    <tr>\n",
              "      <th>2</th>\n",
              "      <td>3000</td>\n",
              "      <td>EEE</td>\n",
              "      <td>A</td>\n",
              "    </tr>\n",
              "    <tr>\n",
              "      <th>1</th>\n",
              "      <td>2000</td>\n",
              "      <td>ECE</td>\n",
              "      <td>B</td>\n",
              "    </tr>\n",
              "    <tr>\n",
              "      <th>3</th>\n",
              "      <td>4000</td>\n",
              "      <td>MEC</td>\n",
              "      <td>C</td>\n",
              "    </tr>\n",
              "  </tbody>\n",
              "</table>\n",
              "</div>"
            ],
            "text/plain": [
              "   Rollno Branch Section\n",
              "0    1000    CSE       A\n",
              "2    3000    EEE       A\n",
              "1    2000    ECE       B\n",
              "3    4000    MEC       C"
            ]
          },
          "execution_count": 5,
          "metadata": {},
          "output_type": "execute_result"
        }
      ],
      "source": [
        "#2\n",
        "data = {\n",
        "    \"Rollno\" : [1000, 2000, 3000, 4000],\n",
        "    \"Branch\" : [\"CSE\", \"ECE\", \"EEE\", \"MEC\"],\n",
        "    \"Section\" : [\"A\", \"B\", \"A\", \"C\"]\n",
        "}\n",
        "\n",
        "dframe = df(data)\n",
        "print(dframe)\n",
        "\n",
        "a = dframe.sort_values(by = 'Section' ,ascending = True)\n",
        "a"
      ]
    },
    {
      "cell_type": "code",
      "execution_count": null,
      "id": "dd8707c4",
      "metadata": {
        "id": "dd8707c4",
        "outputId": "90058bcb-8d5e-439f-cf1c-346ec66ac3af"
      },
      "outputs": [
        {
          "data": {
            "text/plain": [
              "131"
            ]
          },
          "execution_count": 9,
          "metadata": {},
          "output_type": "execute_result"
        }
      ],
      "source": [
        "#3\n",
        "data = [[110, 128, 131], [1, 125, 84], [59, 2, 35]]\n",
        "a = df(data)\n",
        "max(a.max(axis = 'columns'))"
      ]
    },
    {
      "cell_type": "code",
      "execution_count": null,
      "id": "5def5de8",
      "metadata": {
        "id": "5def5de8",
        "outputId": "e0589dc5-cde1-4f00-e9a1-d69a09fc30bc"
      },
      "outputs": [
        {
          "name": "stdout",
          "output_type": "stream",
          "text": [
            "   Rollno Branch Section\n",
            "0    1000    CSE       A\n",
            "1    2000    ECE       B\n",
            "2    3000    EEE       A\n",
            "3    4000    MEC       C\n"
          ]
        },
        {
          "data": {
            "text/plain": [
              "array([1000, 2000, 3000, 4000, 'CSE', 'ECE', 'EEE', 'MEC', 'A', 'B', 'C'],\n",
              "      dtype=object)"
            ]
          },
          "execution_count": 30,
          "metadata": {},
          "output_type": "execute_result"
        }
      ],
      "source": [
        "#4\n",
        "data = {\n",
        "    \"Rollno\" : [1000, 2000, 3000, 4000],\n",
        "    \"Branch\" : [\"CSE\", \"ECE\", \"EEE\", \"MEC\"],\n",
        "    \"Section\" : [\"A\", \"B\", \"A\", \"C\"]\n",
        "}\n",
        "a = df(data)\n",
        "print(a)\n",
        "#col = list((a.columns))\n",
        "#print(col)\n",
        "a.Section.unique()  #for one column \n",
        "\n",
        "(a['Rollno'].append(a['Branch']).append(a['Section'])).unique()  #for multiple columns"
      ]
    },
    {
      "cell_type": "code",
      "execution_count": null,
      "id": "87c79f93",
      "metadata": {
        "id": "87c79f93",
        "outputId": "2d36b2e6-9f24-451b-a5c0-cb36702f2a75"
      },
      "outputs": [
        {
          "name": "stdout",
          "output_type": "stream",
          "text": [
            "   Rollno Branch Section\n",
            "0    1000    CSE       A\n",
            "1    2000    ECE       B\n",
            "3    4000    MEC       C\n"
          ]
        }
      ],
      "source": [
        "#5\n",
        "data = {\n",
        "    \"Rollno\" : [1000, 2000, 3000, 4000],\n",
        "    \"Branch\" : [\"CSE\", \"ECE\", \"EEE\", \"MEC\"],\n",
        "    \"Section\" : [\"A\", \"B\", \"A\", \"C\"]\n",
        "}\n",
        "a = df(data)\n",
        "\n",
        "print(a.drop_duplicates(subset = [\"Section\"]))"
      ]
    },
    {
      "cell_type": "code",
      "execution_count": null,
      "id": "1ab8ebf2",
      "metadata": {
        "id": "1ab8ebf2",
        "outputId": "258848da-40e8-4951-991b-aae2b1aea260"
      },
      "outputs": [
        {
          "data": {
            "text/html": [
              "<div>\n",
              "<style scoped>\n",
              "    .dataframe tbody tr th:only-of-type {\n",
              "        vertical-align: middle;\n",
              "    }\n",
              "\n",
              "    .dataframe tbody tr th {\n",
              "        vertical-align: top;\n",
              "    }\n",
              "\n",
              "    .dataframe thead th {\n",
              "        text-align: right;\n",
              "    }\n",
              "</style>\n",
              "<table border=\"1\" class=\"dataframe\">\n",
              "  <thead>\n",
              "    <tr style=\"text-align: right;\">\n",
              "      <th></th>\n",
              "      <th>Rollno</th>\n",
              "      <th>Dept</th>\n",
              "      <th>Section</th>\n",
              "    </tr>\n",
              "  </thead>\n",
              "  <tbody>\n",
              "    <tr>\n",
              "      <th>0</th>\n",
              "      <td>1000</td>\n",
              "      <td>CSE</td>\n",
              "      <td>A</td>\n",
              "    </tr>\n",
              "    <tr>\n",
              "      <th>1</th>\n",
              "      <td>2000</td>\n",
              "      <td>ECE</td>\n",
              "      <td>B</td>\n",
              "    </tr>\n",
              "    <tr>\n",
              "      <th>2</th>\n",
              "      <td>3000</td>\n",
              "      <td>EEE</td>\n",
              "      <td>A</td>\n",
              "    </tr>\n",
              "    <tr>\n",
              "      <th>3</th>\n",
              "      <td>4000</td>\n",
              "      <td>MEC</td>\n",
              "      <td>C</td>\n",
              "    </tr>\n",
              "  </tbody>\n",
              "</table>\n",
              "</div>"
            ],
            "text/plain": [
              "   Rollno Dept Section\n",
              "0    1000  CSE       A\n",
              "1    2000  ECE       B\n",
              "2    3000  EEE       A\n",
              "3    4000  MEC       C"
            ]
          },
          "execution_count": 35,
          "metadata": {},
          "output_type": "execute_result"
        }
      ],
      "source": [
        "#6\n",
        "data = {\n",
        "    \"Rollno\" : [1000, 2000, 3000, 4000],\n",
        "    \"Branch\" : [\"CSE\", \"ECE\", \"EEE\", \"MEC\"],\n",
        "    \"Section\" : [\"A\", \"B\", \"A\", \"C\"]\n",
        "}\n",
        "a = df(data)\n",
        "\n",
        "a.rename(columns = {'Branch':'Dept'}, inplace = True)\n",
        "a"
      ]
    },
    {
      "cell_type": "code",
      "execution_count": null,
      "id": "e2a67980",
      "metadata": {
        "id": "e2a67980",
        "outputId": "2c4455b0-8b0e-4b74-aa58-beab1071ba2a"
      },
      "outputs": [
        {
          "data": {
            "text/html": [
              "<div>\n",
              "<style scoped>\n",
              "    .dataframe tbody tr th:only-of-type {\n",
              "        vertical-align: middle;\n",
              "    }\n",
              "\n",
              "    .dataframe tbody tr th {\n",
              "        vertical-align: top;\n",
              "    }\n",
              "\n",
              "    .dataframe thead th {\n",
              "        text-align: right;\n",
              "    }\n",
              "</style>\n",
              "<table border=\"1\" class=\"dataframe\">\n",
              "  <thead>\n",
              "    <tr style=\"text-align: right;\">\n",
              "      <th></th>\n",
              "      <th>Rollno</th>\n",
              "      <th>Branch</th>\n",
              "      <th>Section</th>\n",
              "    </tr>\n",
              "  </thead>\n",
              "  <tbody>\n",
              "    <tr>\n",
              "      <th>0</th>\n",
              "      <td>NaN</td>\n",
              "      <td>CSE</td>\n",
              "      <td>NaN</td>\n",
              "    </tr>\n",
              "    <tr>\n",
              "      <th>1</th>\n",
              "      <td>NaN</td>\n",
              "      <td>NaN</td>\n",
              "      <td>NaN</td>\n",
              "    </tr>\n",
              "    <tr>\n",
              "      <th>2</th>\n",
              "      <td>NaN</td>\n",
              "      <td>NaN</td>\n",
              "      <td>NaN</td>\n",
              "    </tr>\n",
              "    <tr>\n",
              "      <th>3</th>\n",
              "      <td>NaN</td>\n",
              "      <td>NaN</td>\n",
              "      <td>NaN</td>\n",
              "    </tr>\n",
              "  </tbody>\n",
              "</table>\n",
              "</div>"
            ],
            "text/plain": [
              "   Rollno Branch Section\n",
              "0     NaN    CSE     NaN\n",
              "1     NaN    NaN     NaN\n",
              "2     NaN    NaN     NaN\n",
              "3     NaN    NaN     NaN"
            ]
          },
          "execution_count": 37,
          "metadata": {},
          "output_type": "execute_result"
        }
      ],
      "source": [
        "#7\n",
        "data = {\n",
        "    \"Rollno\" : [1000, 2000, 3000, 4000],\n",
        "    \"Branch\" : [\"CSE\", \"ECE\", \"EEE\", \"MEC\"],\n",
        "    \"Section\" : [\"A\", \"B\", \"A\", \"C\"]\n",
        "}\n",
        "a = df(data)\n",
        "a.where(a=='CSE')"
      ]
    },
    {
      "cell_type": "code",
      "execution_count": null,
      "id": "83aa2deb",
      "metadata": {
        "id": "83aa2deb",
        "outputId": "2f011c2e-a975-4f48-85dc-695e696c0ec1"
      },
      "outputs": [
        {
          "name": "stdout",
          "output_type": "stream",
          "text": [
            "  Branch Section\n",
            "0    CSE       A\n",
            "1    ECE       B\n",
            "2    EEE       A\n",
            "3    MEC       C\n",
            "   Rollno Branch Section\n",
            "1    2000    ECE       B\n",
            "2    3000    EEE       A\n"
          ]
        }
      ],
      "source": [
        "#8\n",
        "data = {\n",
        "    \"Rollno\" : [1000, 2000, 3000, 4000],\n",
        "    \"Branch\" : [\"CSE\", \"ECE\", \"EEE\", \"MEC\"],\n",
        "    \"Section\" : [\"A\", \"B\", \"A\", \"C\"]\n",
        "}\n",
        "a = df(data)\n",
        "\n",
        "print(a.drop(['Rollno'], axis=1))\n",
        "\n",
        "print(a.drop([0,3]))"
      ]
    },
    {
      "cell_type": "code",
      "execution_count": null,
      "id": "e2703514",
      "metadata": {
        "id": "e2703514",
        "outputId": "0eb310b5-c9d4-48a5-c430-92589b289409"
      },
      "outputs": [
        {
          "name": "stdout",
          "output_type": "stream",
          "text": [
            "  Section\n",
            "0       A\n",
            "1       B\n",
            "2       A\n",
            "3       C\n",
            "  Section  Rollno\n",
            "0       A    1000\n",
            "1       B    2000\n",
            "2       A    3000\n",
            "3       C    4000\n"
          ]
        }
      ],
      "source": [
        "#9\n",
        "data = {\n",
        "    \"Rollno\" : [1000, 2000, 3000, 4000],\n",
        "    \"Branch\" : [\"CSE\", \"ECE\", \"EEE\", \"MEC\"],\n",
        "    \"Section\" : [\"A\", \"B\", \"A\", \"C\"]\n",
        "}\n",
        "a = df(data)\n",
        "\n",
        "print(a.filter(like='ec' ,axis=1))\n",
        "\n",
        "print(a.filter(items=['Section', 'Rollno']))"
      ]
    },
    {
      "cell_type": "code",
      "execution_count": null,
      "id": "0b4d667d",
      "metadata": {
        "id": "0b4d667d"
      },
      "outputs": [],
      "source": [
        "#10\n",
        "https://pandas.pydata.org/pandas-docs/stable/reference/api/pandas.DataFrame.rolling.html"
      ]
    },
    {
      "cell_type": "code",
      "execution_count": null,
      "id": "26b0ffdd",
      "metadata": {
        "id": "26b0ffdd"
      },
      "outputs": [],
      "source": [
        "#11\n",
        "normalize?"
      ]
    },
    {
      "cell_type": "code",
      "execution_count": null,
      "id": "d1c8b916",
      "metadata": {
        "id": "d1c8b916",
        "outputId": "93b71025-e0f0-4099-b101-b4dd3ae94b5b"
      },
      "outputs": [
        {
          "data": {
            "text/html": [
              "<div>\n",
              "<style scoped>\n",
              "    .dataframe tbody tr th:only-of-type {\n",
              "        vertical-align: middle;\n",
              "    }\n",
              "\n",
              "    .dataframe tbody tr th {\n",
              "        vertical-align: top;\n",
              "    }\n",
              "\n",
              "    .dataframe thead th {\n",
              "        text-align: right;\n",
              "    }\n",
              "</style>\n",
              "<table border=\"1\" class=\"dataframe\">\n",
              "  <thead>\n",
              "    <tr style=\"text-align: right;\">\n",
              "      <th></th>\n",
              "      <th>Rollno</th>\n",
              "      <th>Branch</th>\n",
              "      <th>Section</th>\n",
              "      <th>Year</th>\n",
              "    </tr>\n",
              "  </thead>\n",
              "  <tbody>\n",
              "    <tr>\n",
              "      <th>0</th>\n",
              "      <td>1000</td>\n",
              "      <td>CSE</td>\n",
              "      <td>A</td>\n",
              "      <td>2000</td>\n",
              "    </tr>\n",
              "    <tr>\n",
              "      <th>1</th>\n",
              "      <td>2000</td>\n",
              "      <td>ECE</td>\n",
              "      <td>B</td>\n",
              "      <td>2001</td>\n",
              "    </tr>\n",
              "    <tr>\n",
              "      <th>2</th>\n",
              "      <td>3000</td>\n",
              "      <td>EEE</td>\n",
              "      <td>A</td>\n",
              "      <td>2000</td>\n",
              "    </tr>\n",
              "    <tr>\n",
              "      <th>3</th>\n",
              "      <td>4000</td>\n",
              "      <td>MEC</td>\n",
              "      <td>C</td>\n",
              "      <td>1999</td>\n",
              "    </tr>\n",
              "  </tbody>\n",
              "</table>\n",
              "</div>"
            ],
            "text/plain": [
              "   Rollno Branch Section  Year\n",
              "0    1000    CSE       A  2000\n",
              "1    2000    ECE       B  2001\n",
              "2    3000    EEE       A  2000\n",
              "3    4000    MEC       C  1999"
            ]
          },
          "execution_count": 52,
          "metadata": {},
          "output_type": "execute_result"
        }
      ],
      "source": [
        "#12\n",
        "data = {\n",
        "    \"Rollno\" : [1000, 2000, 3000, 4000],\n",
        "    \"Branch\" : [\"CSE\", \"ECE\", \"EEE\", \"MEC\"],\n",
        "    \"Section\" : [\"A\", \"B\", \"A\", \"C\"]\n",
        "}\n",
        "a = df(data)\n",
        "\n",
        "a[\"Year\"] = [\"2000\", \"2001\", \"2000\", \"1999\"]\n",
        "a"
      ]
    },
    {
      "cell_type": "code",
      "execution_count": null,
      "id": "c70da4f9",
      "metadata": {
        "id": "c70da4f9",
        "outputId": "704484a6-6d2c-4b33-cd2d-f05606e67388"
      },
      "outputs": [
        {
          "name": "stdout",
          "output_type": "stream",
          "text": [
            "   Rollno  Branch  Section\n",
            "0     1.0     1.0      1.5\n",
            "1     2.0     2.0      3.0\n",
            "2     3.0     3.0      1.5\n",
            "3     4.0     4.0      4.0\n",
            "   Rollno  Branch  Section\n",
            "0     4.0     4.0      3.5\n",
            "1     3.0     3.0      2.0\n",
            "2     2.0     2.0      3.5\n",
            "3     1.0     1.0      1.0\n"
          ]
        }
      ],
      "source": [
        "#13\n",
        "data = {\n",
        "    \"Rollno\" : [1000, 2000, 3000, 4000],\n",
        "    \"Branch\" : [\"CSE\", \"ECE\", \"EEE\", \"MEC\"],\n",
        "    \"Section\" : [\"A\", \"B\", \"A\", \"C\"]\n",
        "}\n",
        "a = df(data)\n",
        "\n",
        "print(a.rank(ascending=True))\n",
        "\n",
        "print(a.rank(ascending=False))"
      ]
    },
    {
      "cell_type": "code",
      "execution_count": null,
      "id": "fe055b86",
      "metadata": {
        "id": "fe055b86",
        "outputId": "233afe7f-8abb-42f1-c9cf-c78030ed3405"
      },
      "outputs": [
        {
          "data": {
            "text/html": [
              "<div>\n",
              "<style scoped>\n",
              "    .dataframe tbody tr th:only-of-type {\n",
              "        vertical-align: middle;\n",
              "    }\n",
              "\n",
              "    .dataframe tbody tr th {\n",
              "        vertical-align: top;\n",
              "    }\n",
              "\n",
              "    .dataframe thead th {\n",
              "        text-align: right;\n",
              "    }\n",
              "</style>\n",
              "<table border=\"1\" class=\"dataframe\">\n",
              "  <thead>\n",
              "    <tr style=\"text-align: right;\">\n",
              "      <th></th>\n",
              "      <th>Rollno</th>\n",
              "      <th>Branch</th>\n",
              "      <th>Section</th>\n",
              "    </tr>\n",
              "  </thead>\n",
              "  <tbody>\n",
              "    <tr>\n",
              "      <th>0</th>\n",
              "      <td>1000</td>\n",
              "      <td>CSE</td>\n",
              "      <td>A</td>\n",
              "    </tr>\n",
              "    <tr>\n",
              "      <th>1</th>\n",
              "      <td>2000</td>\n",
              "      <td>ECE</td>\n",
              "      <td>B</td>\n",
              "    </tr>\n",
              "    <tr>\n",
              "      <th>2</th>\n",
              "      <td>3000</td>\n",
              "      <td>EEE</td>\n",
              "      <td>A</td>\n",
              "    </tr>\n",
              "    <tr>\n",
              "      <th>3</th>\n",
              "      <td>4000</td>\n",
              "      <td>MEC</td>\n",
              "      <td>C</td>\n",
              "    </tr>\n",
              "    <tr>\n",
              "      <th>4</th>\n",
              "      <td>6000</td>\n",
              "      <td>CSE</td>\n",
              "      <td>C</td>\n",
              "    </tr>\n",
              "  </tbody>\n",
              "</table>\n",
              "</div>"
            ],
            "text/plain": [
              "   Rollno Branch Section\n",
              "0    1000    CSE       A\n",
              "1    2000    ECE       B\n",
              "2    3000    EEE       A\n",
              "3    4000    MEC       C\n",
              "4    6000    CSE       C"
            ]
          },
          "execution_count": 59,
          "metadata": {},
          "output_type": "execute_result"
        }
      ],
      "source": [
        "#14\n",
        "data = {\n",
        "    \"Rollno\" : [1000, 2000, 3000, 4000],\n",
        "    \"Branch\" : [\"CSE\", \"ECE\", \"EEE\", \"MEC\"],\n",
        "    \"Section\" : [\"A\", \"B\", \"A\", \"C\"]\n",
        "}\n",
        "a = df(data)\n",
        "\n",
        "new_row = {\"Rollno\" : 6000, \"Branch\" : \"CSE\", \"Section\" : \"C\"}\n",
        "a = a.append(new_row, ignore_index=True)\n",
        "a"
      ]
    }
  ],
  "metadata": {
    "kernelspec": {
      "display_name": "Python 3 (ipykernel)",
      "language": "python",
      "name": "python3"
    },
    "language_info": {
      "codemirror_mode": {
        "name": "ipython",
        "version": 3
      },
      "file_extension": ".py",
      "mimetype": "text/x-python",
      "name": "python",
      "nbconvert_exporter": "python",
      "pygments_lexer": "ipython3",
      "version": "3.9.7"
    },
    "colab": {
      "provenance": [],
      "include_colab_link": true
    }
  },
  "nbformat": 4,
  "nbformat_minor": 5
}